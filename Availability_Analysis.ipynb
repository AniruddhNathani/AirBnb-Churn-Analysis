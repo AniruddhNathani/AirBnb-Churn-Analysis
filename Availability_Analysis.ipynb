{
 "cells": [
  {
   "cell_type": "code",
   "execution_count": 1,
   "metadata": {},
   "outputs": [],
   "source": [
    "import pandas as pd\n",
    "import matplotlib.pyplot as plt\n",
    "import numpy as np\n",
    "import seaborn as sns\n",
    "import warnings\n",
    "warnings.filterwarnings('ignore')"
   ]
  },
  {
   "cell_type": "code",
   "execution_count": 2,
   "metadata": {},
   "outputs": [],
   "source": [
    "cal19=pd.read_csv(\"C:\\\\Users\\\\vaide\\\\Documents\\\\575\\\\Group_Project\\\\Data\\\\Data\\\\calendar_2019.csv.gz\")\n",
    "cal17=pd.read_csv(\"C:\\\\Users\\\\vaide\\\\Documents\\\\575\\\\Group_Project\\\\Data\\\\Data\\\\calendar_2017.csv.gz\")\n",
    "cal18=pd.read_csv(\"C:\\\\Users\\\\vaide\\\\Documents\\\\575\\\\Group_Project\\\\Data\\\\Data\\\\calendar_2018.csv.gz\")"
   ]
  },
  {
   "cell_type": "code",
   "execution_count": 3,
   "metadata": {},
   "outputs": [],
   "source": [
    "listings2019 = pd.read_csv(\"C:\\\\Users\\\\vaide\\\\Documents\\\\575\\\\Group_Project\\\\Data\\\\Data\\\\listings_2019.csv.gz\")\n",
    "listings2018 = pd.read_csv(\"C:\\\\Users\\\\vaide\\\\Documents\\\\575\\\\Group_Project\\\\Data\\\\Data\\\\listings_2018.csv.gz\")\n",
    "listings2017 = pd.read_csv(\"C:\\\\Users\\\\vaide\\\\Documents\\\\575\\\\Group_Project\\\\Data\\\\Data\\\\listings_2017.csv.gz\")"
   ]
  },
  {
   "cell_type": "code",
   "execution_count": 4,
   "metadata": {},
   "outputs": [],
   "source": [
    "set_19 = set(listings2019.id)\n",
    "set_18 = set(listings2018.id)\n",
    "set_17 = set(listings2017.id)\n",
    "\n",
    "listings2018['drop_out'] = listings2018['id'].apply(lambda x: 0 if x in set_19 else 1)\n",
    "listings2017['drop_out'] = listings2017['id'].apply(lambda x: 0 if x in set_18 else 1)"
   ]
  },
  {
   "cell_type": "code",
   "execution_count": 5,
   "metadata": {},
   "outputs": [
    {
     "data": {
      "text/plain": [
       "0    5246\n",
       "1    3348\n",
       "Name: drop_out, dtype: int64"
      ]
     },
     "execution_count": 5,
     "metadata": {},
     "output_type": "execute_result"
    }
   ],
   "source": [
    "listings2018.drop_out.value_counts()"
   ]
  },
  {
   "cell_type": "code",
   "execution_count": 6,
   "metadata": {},
   "outputs": [
    {
     "data": {
      "text/plain": [
       "(3818, 93)"
      ]
     },
     "execution_count": 6,
     "metadata": {},
     "output_type": "execute_result"
    }
   ],
   "source": [
    "listings2017.shape"
   ]
  },
  {
   "cell_type": "code",
   "execution_count": 7,
   "metadata": {},
   "outputs": [],
   "source": [
    "cal17\n",
    "cal17['avail']=np.where(cal17.available=='t',1,0)\n",
    "avail17=pd.DataFrame(cal17.avail.groupby(cal17.listing_id).sum())\n",
    "avail17=avail17.reset_index()\n",
    "avail17.columns=[\"listing_id\",\"days_avail\"]\n",
    "merge17=pd.merge(avail17,listings2017, how='inner', left_on=['listing_id'], right_on=['id'])\n",
    "drop17=merge17[[\"id\",\"days_avail\",\"drop_out\"]]\n",
    "d17_dropped=drop17.loc[drop17[\"drop_out\"]==1]\n",
    "d17_there = drop17.loc[drop17[\"drop_out\"]==0]\n",
    "\n",
    "d17_dropped = d17_dropped.drop(axis =1 ,columns = 'drop_out')\n",
    "d17_there = d17_there.drop(axis =1 ,columns = 'drop_out')\n",
    "\n",
    "\n",
    "cal18\n",
    "cal18['avail']=np.where(cal18.available=='t',1,0)\n",
    "avail18=pd.DataFrame(cal18.avail.groupby(cal18.listing_id).sum())\n",
    "avail18=avail18.reset_index()\n",
    "avail18.columns=[\"listing_id\",\"days_avail\"]\n",
    "merge18=pd.merge(avail18,listings2018, how='inner', left_on=['listing_id'], right_on=['id'])\n",
    "drop18=merge18[[\"id\",\"days_avail\",\"drop_out\"]]\n",
    "d18_dropped=drop18.loc[drop18[\"drop_out\"]==1]\n",
    "d18_there = drop18.loc[drop18[\"drop_out\"]==0]\n",
    "\n",
    "d18_dropped = d18_dropped.drop(axis =1 ,columns = 'drop_out')\n",
    "d18_there = d18_there.drop(axis =1 ,columns = 'drop_out')\n",
    "\n"
   ]
  },
  {
   "cell_type": "code",
   "execution_count": 8,
   "metadata": {},
   "outputs": [
    {
     "data": {
      "text/html": [
       "<div>\n",
       "<style scoped>\n",
       "    .dataframe tbody tr th:only-of-type {\n",
       "        vertical-align: middle;\n",
       "    }\n",
       "\n",
       "    .dataframe tbody tr th {\n",
       "        vertical-align: top;\n",
       "    }\n",
       "\n",
       "    .dataframe thead th {\n",
       "        text-align: right;\n",
       "    }\n",
       "</style>\n",
       "<table border=\"1\" class=\"dataframe\">\n",
       "  <thead>\n",
       "    <tr style=\"text-align: right;\">\n",
       "      <th></th>\n",
       "      <th>id</th>\n",
       "      <th>days_avail</th>\n",
       "    </tr>\n",
       "  </thead>\n",
       "  <tbody>\n",
       "    <tr>\n",
       "      <td>1</td>\n",
       "      <td>3335</td>\n",
       "      <td>365</td>\n",
       "    </tr>\n",
       "    <tr>\n",
       "      <td>2</td>\n",
       "      <td>4291</td>\n",
       "      <td>346</td>\n",
       "    </tr>\n",
       "    <tr>\n",
       "      <td>11</td>\n",
       "      <td>10209</td>\n",
       "      <td>362</td>\n",
       "    </tr>\n",
       "    <tr>\n",
       "      <td>12</td>\n",
       "      <td>10385</td>\n",
       "      <td>335</td>\n",
       "    </tr>\n",
       "    <tr>\n",
       "      <td>13</td>\n",
       "      <td>10695</td>\n",
       "      <td>335</td>\n",
       "    </tr>\n",
       "    <tr>\n",
       "      <td>...</td>\n",
       "      <td>...</td>\n",
       "      <td>...</td>\n",
       "    </tr>\n",
       "    <tr>\n",
       "      <td>8581</td>\n",
       "      <td>30737191</td>\n",
       "      <td>83</td>\n",
       "    </tr>\n",
       "    <tr>\n",
       "      <td>8584</td>\n",
       "      <td>30741325</td>\n",
       "      <td>81</td>\n",
       "    </tr>\n",
       "    <tr>\n",
       "      <td>8585</td>\n",
       "      <td>30745238</td>\n",
       "      <td>16</td>\n",
       "    </tr>\n",
       "    <tr>\n",
       "      <td>8588</td>\n",
       "      <td>30761790</td>\n",
       "      <td>315</td>\n",
       "    </tr>\n",
       "    <tr>\n",
       "      <td>8591</td>\n",
       "      <td>30779967</td>\n",
       "      <td>364</td>\n",
       "    </tr>\n",
       "  </tbody>\n",
       "</table>\n",
       "<p>3348 rows × 2 columns</p>\n",
       "</div>"
      ],
      "text/plain": [
       "            id  days_avail\n",
       "1         3335         365\n",
       "2         4291         346\n",
       "11       10209         362\n",
       "12       10385         335\n",
       "13       10695         335\n",
       "...        ...         ...\n",
       "8581  30737191          83\n",
       "8584  30741325          81\n",
       "8585  30745238          16\n",
       "8588  30761790         315\n",
       "8591  30779967         364\n",
       "\n",
       "[3348 rows x 2 columns]"
      ]
     },
     "execution_count": 8,
     "metadata": {},
     "output_type": "execute_result"
    }
   ],
   "source": [
    "d18_dropped"
   ]
  },
  {
   "cell_type": "code",
   "execution_count": 9,
   "metadata": {},
   "outputs": [],
   "source": [
    "dropped_merged_df = pd.concat([d17_dropped,d18_dropped], axis = 0)\n",
    "there_merged_df = pd.concat([d17_there,d18_there], axis = 0)\n",
    "\n",
    "pd_dropped_merged =pd.DataFrame(dropped_merged_df.groupby(\"days_avail\").count())\n",
    "pd_dropped_merged=pd_dropped_merged.reset_index()\n",
    "pd_dropped_merged.columns=[\"days\",\"freq\"]\n",
    "\n",
    "pd_there_merged =pd.DataFrame(there_merged_df.groupby(\"days_avail\").count())\n",
    "pd_there_merged=pd_there_merged.reset_index()\n",
    "pd_there_merged.columns=[\"days\",\"freq\"]"
   ]
  },
  {
   "cell_type": "code",
   "execution_count": 10,
   "metadata": {},
   "outputs": [
    {
     "data": {
      "text/html": [
       "<div>\n",
       "<style scoped>\n",
       "    .dataframe tbody tr th:only-of-type {\n",
       "        vertical-align: middle;\n",
       "    }\n",
       "\n",
       "    .dataframe tbody tr th {\n",
       "        vertical-align: top;\n",
       "    }\n",
       "\n",
       "    .dataframe thead th {\n",
       "        text-align: right;\n",
       "    }\n",
       "</style>\n",
       "<table border=\"1\" class=\"dataframe\">\n",
       "  <thead>\n",
       "    <tr style=\"text-align: right;\">\n",
       "      <th></th>\n",
       "      <th>Range</th>\n",
       "      <th>frequency</th>\n",
       "    </tr>\n",
       "  </thead>\n",
       "  <tbody>\n",
       "    <tr>\n",
       "      <td>0</td>\n",
       "      <td>0</td>\n",
       "      <td>976</td>\n",
       "    </tr>\n",
       "    <tr>\n",
       "      <td>1</td>\n",
       "      <td>1</td>\n",
       "      <td>430</td>\n",
       "    </tr>\n",
       "    <tr>\n",
       "      <td>2</td>\n",
       "      <td>2</td>\n",
       "      <td>379</td>\n",
       "    </tr>\n",
       "    <tr>\n",
       "      <td>3</td>\n",
       "      <td>3</td>\n",
       "      <td>788</td>\n",
       "    </tr>\n",
       "    <tr>\n",
       "      <td>4</td>\n",
       "      <td>4</td>\n",
       "      <td>402</td>\n",
       "    </tr>\n",
       "    <tr>\n",
       "      <td>5</td>\n",
       "      <td>5</td>\n",
       "      <td>442</td>\n",
       "    </tr>\n",
       "    <tr>\n",
       "      <td>6</td>\n",
       "      <td>6</td>\n",
       "      <td>659</td>\n",
       "    </tr>\n",
       "    <tr>\n",
       "      <td>7</td>\n",
       "      <td>7</td>\n",
       "      <td>138</td>\n",
       "    </tr>\n",
       "    <tr>\n",
       "      <td>8</td>\n",
       "      <td>8</td>\n",
       "      <td>197</td>\n",
       "    </tr>\n",
       "    <tr>\n",
       "      <td>9</td>\n",
       "      <td>9</td>\n",
       "      <td>284</td>\n",
       "    </tr>\n",
       "    <tr>\n",
       "      <td>10</td>\n",
       "      <td>10</td>\n",
       "      <td>217</td>\n",
       "    </tr>\n",
       "    <tr>\n",
       "      <td>11</td>\n",
       "      <td>11</td>\n",
       "      <td>440</td>\n",
       "    </tr>\n",
       "    <tr>\n",
       "      <td>12</td>\n",
       "      <td>12</td>\n",
       "      <td>1640</td>\n",
       "    </tr>\n",
       "  </tbody>\n",
       "</table>\n",
       "</div>"
      ],
      "text/plain": [
       "   Range  frequency\n",
       "0      0        976\n",
       "1      1        430\n",
       "2      2        379\n",
       "3      3        788\n",
       "4      4        402\n",
       "5      5        442\n",
       "6      6        659\n",
       "7      7        138\n",
       "8      8        197\n",
       "9      9        284\n",
       "10    10        217\n",
       "11    11        440\n",
       "12    12       1640"
      ]
     },
     "execution_count": 10,
     "metadata": {},
     "output_type": "execute_result"
    }
   ],
   "source": [
    "pd17_there_buc = pd.DataFrame()\n",
    "pd17_there_buc['Range'] = [\"0\",\"1\",\"2\",\"3\",\"4\",\"5\",\"6\",\"7\",\"8\",\"9\",\"10\",\"11\",\"12\"]\n",
    "\n",
    "freq = []\n",
    "temp = pd_there_merged[(pd_there_merged[\"days\"] == 0)]\n",
    "freq.append(temp.freq.sum())\n",
    "count = 0\n",
    "for i in range(12):\n",
    "    if(i == 11):\n",
    "        temp = pd_there_merged[(pd_there_merged[\"days\"] > count) & (pd_there_merged[\"days\"] < 366)] \n",
    "    else:\n",
    "        temp = pd_there_merged[(pd_there_merged[\"days\"] > count) & (pd_there_merged[\"days\"] < count + 31)] \n",
    "    freq.append(temp.freq.sum())\n",
    "    count = count + 30\n",
    "pd17_there_buc['frequency'] = freq\n",
    "pd17_there_buc"
   ]
  },
  {
   "cell_type": "code",
   "execution_count": 11,
   "metadata": {},
   "outputs": [
    {
     "data": {
      "text/html": [
       "<div>\n",
       "<style scoped>\n",
       "    .dataframe tbody tr th:only-of-type {\n",
       "        vertical-align: middle;\n",
       "    }\n",
       "\n",
       "    .dataframe tbody tr th {\n",
       "        vertical-align: top;\n",
       "    }\n",
       "\n",
       "    .dataframe thead th {\n",
       "        text-align: right;\n",
       "    }\n",
       "</style>\n",
       "<table border=\"1\" class=\"dataframe\">\n",
       "  <thead>\n",
       "    <tr style=\"text-align: right;\">\n",
       "      <th></th>\n",
       "      <th>Range</th>\n",
       "      <th>frequency</th>\n",
       "    </tr>\n",
       "  </thead>\n",
       "  <tbody>\n",
       "    <tr>\n",
       "      <td>0</td>\n",
       "      <td>0</td>\n",
       "      <td>822</td>\n",
       "    </tr>\n",
       "    <tr>\n",
       "      <td>1</td>\n",
       "      <td>1</td>\n",
       "      <td>606</td>\n",
       "    </tr>\n",
       "    <tr>\n",
       "      <td>2</td>\n",
       "      <td>2</td>\n",
       "      <td>343</td>\n",
       "    </tr>\n",
       "    <tr>\n",
       "      <td>3</td>\n",
       "      <td>3</td>\n",
       "      <td>616</td>\n",
       "    </tr>\n",
       "    <tr>\n",
       "      <td>4</td>\n",
       "      <td>4</td>\n",
       "      <td>251</td>\n",
       "    </tr>\n",
       "    <tr>\n",
       "      <td>5</td>\n",
       "      <td>5</td>\n",
       "      <td>208</td>\n",
       "    </tr>\n",
       "    <tr>\n",
       "      <td>6</td>\n",
       "      <td>6</td>\n",
       "      <td>346</td>\n",
       "    </tr>\n",
       "    <tr>\n",
       "      <td>7</td>\n",
       "      <td>7</td>\n",
       "      <td>88</td>\n",
       "    </tr>\n",
       "    <tr>\n",
       "      <td>8</td>\n",
       "      <td>8</td>\n",
       "      <td>113</td>\n",
       "    </tr>\n",
       "    <tr>\n",
       "      <td>9</td>\n",
       "      <td>9</td>\n",
       "      <td>210</td>\n",
       "    </tr>\n",
       "    <tr>\n",
       "      <td>10</td>\n",
       "      <td>10</td>\n",
       "      <td>147</td>\n",
       "    </tr>\n",
       "    <tr>\n",
       "      <td>11</td>\n",
       "      <td>11</td>\n",
       "      <td>239</td>\n",
       "    </tr>\n",
       "    <tr>\n",
       "      <td>12</td>\n",
       "      <td>12</td>\n",
       "      <td>1431</td>\n",
       "    </tr>\n",
       "  </tbody>\n",
       "</table>\n",
       "</div>"
      ],
      "text/plain": [
       "   Range  frequency\n",
       "0      0        822\n",
       "1      1        606\n",
       "2      2        343\n",
       "3      3        616\n",
       "4      4        251\n",
       "5      5        208\n",
       "6      6        346\n",
       "7      7         88\n",
       "8      8        113\n",
       "9      9        210\n",
       "10    10        147\n",
       "11    11        239\n",
       "12    12       1431"
      ]
     },
     "execution_count": 11,
     "metadata": {},
     "output_type": "execute_result"
    }
   ],
   "source": [
    "pd17_drop_buc = pd.DataFrame()\n",
    "pd17_drop_buc['Range'] = [\"0\",\"1\",\"2\",\"3\",\"4\",\"5\",\"6\",\"7\",\"8\",\"9\",\"10\",\"11\",\"12\"]\n",
    "freq = []\n",
    "temp = pd_dropped_merged[(pd_dropped_merged[\"days\"] == 0)]\n",
    "freq.append(temp.freq.sum())\n",
    "count = 0\n",
    "for i in range(12):\n",
    "    if(i == 11):\n",
    "        temp = pd_dropped_merged[(pd_dropped_merged[\"days\"] > count) & (pd_dropped_merged[\"days\"] < 366)] \n",
    "    else:\n",
    "        temp = pd_dropped_merged[(pd_dropped_merged[\"days\"] > count) & (pd_dropped_merged[\"days\"] < count + 31)] \n",
    "    freq.append(temp.freq.sum())\n",
    "    count = count + 30\n",
    "pd17_drop_buc['frequency'] = freq\n",
    "pd17_drop_buc"
   ]
  },
  {
   "cell_type": "code",
   "execution_count": 12,
   "metadata": {},
   "outputs": [
    {
     "data": {
      "text/plain": [
       "<matplotlib.legend.Legend at 0x1ef5d9e39c8>"
      ]
     },
     "execution_count": 12,
     "metadata": {},
     "output_type": "execute_result"
    },
    {
     "data": {
      "image/png": "[encoded data removed]",
      "text/plain": [
       "<Figure size 720x360 with 1 Axes>"
      ]
     },
     "metadata": {
      "needs_background": "light"
     },
     "output_type": "display_data"
    }
   ],
   "source": [
    "#Plotting availaibiltiy\n",
    "X = np.arange(13)\n",
    "fig=plt.gcf()\n",
    "fig.set_size_inches(10,5)\n",
    "ax = fig.add_axes([0,0,1,1])\n",
    "ax.bar(X + 0.00, pd17_drop_buc[\"frequency\"], color = 'tomato', edgecolor='r', linewidth = 1, width = 0.40, label ='Dropped out listings')\n",
    "ax.bar(X + 0.40, pd17_there_buc[\"frequency\"], color = 'skyblue', edgecolor='lightblue', linewidth = 1,width = 0.40,label ='Present listings')\n",
    "plt.title(\"Distribution of availability for Airbnb listings\", fontsize =15)\n",
    "#plt.xticks(rotation=45)\n",
    "plt.xlabel(\"Number of months present\", fontsize =12)\n",
    "plt.ylabel(\"Number of listings\", fontsize =12)\n",
    "plt.xticks(X,pd17_drop_buc.Range)\n",
    "plt.legend()"
   ]
  }
 ],
 "metadata": {
  "kernelspec": {
   "display_name": "Python 3",
   "language": "python",
   "name": "python3"
  },
  "language_info": {
   "codemirror_mode": {
    "name": "ipython",
    "version": 3
   },
   "file_extension": ".py",
   "mimetype": "text/x-python",
   "name": "python",
   "nbconvert_exporter": "python",
   "pygments_lexer": "ipython3",
   "version": "3.7.4"
  }
 },
 "nbformat": 4,
 "nbformat_minor": 2
}
