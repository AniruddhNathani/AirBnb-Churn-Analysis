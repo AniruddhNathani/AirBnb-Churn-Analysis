{
 "cells": [
  {
   "cell_type": "code",
   "execution_count": 1,
   "metadata": {},
   "outputs": [],
   "source": [
    "import pandas as pd\n",
    "import matplotlib.pyplot as plt\n",
    "import numpy as np\n",
    "import seaborn as sns\n",
    "from sklearn.model_selection import train_test_split\n",
    "from sklearn.base import BaseEstimator, TransformerMixin\n",
    "from sklearn.pipeline import Pipeline, FeatureUnion\n",
    "from sklearn.preprocessing import StandardScaler, FunctionTransformer\n",
    "from sklearn.model_selection import train_test_split, cross_val_score\n",
    "from sklearn.decomposition import PCA\n",
    "from sklearn.metrics import accuracy_score, recall_score, precision_score, confusion_matrix, roc_curve, auc\n",
    "from sklearn.calibration import calibration_curve\n",
    "\n",
    "#modeling\n",
    "from sklearn.linear_model import LogisticRegression, SGDClassifier\n",
    "from sklearn.ensemble import RandomForestClassifier\n",
    "from sklearn.svm import SVC\n",
    "from sklearn.neighbors import KNeighborsClassifier\n",
    "from sklearn.ensemble import RandomForestClassifier\n",
    "from sklearn.model_selection import cross_validate, GridSearchCV\n",
    "\n",
    "from sklearn.ensemble import RandomForestClassifier\n",
    "from sklearn.ensemble import GradientBoostingClassifier\n",
    "from sklearn.naive_bayes import MultinomialNB\n",
    "from sklearn.metrics import accuracy_score, f1_score, precision_score, recall_score, classification_report,confusion_matrix\n",
    "from sklearn.linear_model import LogisticRegression\n",
    "from sklearn.svm import SVC\n",
    "\n",
    "import warnings\n",
    "warnings.filterwarnings('ignore')"
   ]
  },
  {
   "cell_type": "code",
   "execution_count": 2,
   "metadata": {},
   "outputs": [],
   "source": [
    "listings2019 = pd.read_csv(\"C:\\\\Users\\\\vaide\\\\Documents\\\\575\\\\Group_Project\\\\Data\\\\Data\\\\listings_2019.csv.gz\")\n",
    "listings2018 = pd.read_csv(\"C:\\\\Users\\\\vaide\\\\Documents\\\\575\\\\Group_Project\\\\Data\\\\Data\\\\listings_2018.csv.gz\")\n",
    "listings2017 = pd.read_csv(\"C:\\\\Users\\\\vaide\\\\Documents\\\\575\\\\Group_Project\\\\Data\\\\Data\\\\listings_2017.csv.gz\")\n"
   ]
  },
  {
   "cell_type": "code",
   "execution_count": 3,
   "metadata": {},
   "outputs": [],
   "source": [
    "listing_review_scores_train = pd.read_csv(\"C:\\\\Users\\\\vaide\\\\Documents\\\\575\\\\Group_Project\\\\review_scores_all_listings.csv\")\n",
    "listing_avail_days_train = pd.read_csv(\"C:\\\\Users\\\\vaide\\\\Documents\\\\575\\\\Group_Project\\\\days_avail.csv\")\n",
    "listing_review_scores_test = pd.read_csv(\"C:\\\\Users\\\\vaide\\\\Documents\\\\575\\\\Group_Project\\\\reviews_19.csv\")\n",
    "listing_avail_days_test = pd.read_csv(\"C:\\\\Users\\\\vaide\\\\Documents\\\\575\\\\Group_Project\\\\days_avail19.csv\")"
   ]
  },
  {
   "cell_type": "code",
   "execution_count": 4,
   "metadata": {},
   "outputs": [],
   "source": [
    "listings2017_df=listings2017[['id','host_id',\n",
    "'host_since',\n",
    "'host_location',\n",
    "'host_response_time',\n",
    "'host_response_rate',\n",
    "'host_is_superhost',\n",
    "'host_has_profile_pic',\n",
    "'host_identity_verified',\n",
    "'street',\n",
    "'neighbourhood_cleansed',\n",
    "'city',\n",
    "'zipcode',\n",
    "'is_location_exact',\n",
    "'property_type',\n",
    "'room_type',\n",
    "'accommodates',\n",
    "'bathrooms',\n",
    "'bedrooms',\n",
    "'beds',\n",
    "'amenities',\n",
    "'price',\n",
    "'guests_included',\n",
    "'extra_people',\n",
    "'number_of_reviews',\n",
    "'has_availability',\n",
    "'availability_30',\n",
    "'cancellation_policy',\n",
    "'instant_bookable',\n",
    "'review_scores_rating',\n",
    "'review_scores_location',\n",
    "'review_scores_accuracy',\n",
    "'review_scores_cleanliness',\n",
    "'review_scores_value',\n",
    "'review_scores_checkin',\n",
    "'review_scores_communication',\n",
    "'requires_license',\n",
    "'require_guest_profile_picture',\n",
    "'require_guest_phone_verification',\n",
    "'calculated_host_listings_count',\n",
    "'reviews_per_month']]"
   ]
  },
  {
   "cell_type": "code",
   "execution_count": 5,
   "metadata": {},
   "outputs": [],
   "source": [
    "listings2018_df=listings2018[['id','host_id',\n",
    "'host_since',\n",
    "'host_location',\n",
    "'host_response_time',\n",
    "'host_response_rate',\n",
    "'host_is_superhost',\n",
    "'host_has_profile_pic',\n",
    "'host_identity_verified',\n",
    "'street',\n",
    "'neighbourhood_cleansed',\n",
    "'city',\n",
    "'zipcode',\n",
    "'is_location_exact',\n",
    "'property_type',\n",
    "'room_type',\n",
    "'accommodates',\n",
    "'bathrooms',\n",
    "'bedrooms',\n",
    "'beds',\n",
    "'amenities',\n",
    "'price',\n",
    "'guests_included',\n",
    "'extra_people',\n",
    "'number_of_reviews',\n",
    "'has_availability',\n",
    "'availability_30',\n",
    "'cancellation_policy',\n",
    "'instant_bookable',\n",
    "'review_scores_rating',\n",
    "'review_scores_location',\n",
    "'review_scores_accuracy',\n",
    "'review_scores_cleanliness',\n",
    "'review_scores_value',\n",
    "'review_scores_checkin',\n",
    "'review_scores_communication',\n",
    "'requires_license',\n",
    "'require_guest_profile_picture',\n",
    "'require_guest_phone_verification',\n",
    "'calculated_host_listings_count',\n",
    "'reviews_per_month']]"
   ]
  },
  {
   "cell_type": "code",
   "execution_count": 6,
   "metadata": {},
   "outputs": [],
   "source": [
    "listings2019_df=listings2019[['id','host_id',\n",
    "'host_since',\n",
    "'host_location',\n",
    "'host_response_time',\n",
    "'host_response_rate',\n",
    "'host_is_superhost',\n",
    "'host_has_profile_pic',\n",
    "'host_identity_verified',\n",
    "'street',\n",
    "'neighbourhood_cleansed',\n",
    "'city',\n",
    "'zipcode',\n",
    "'is_location_exact',\n",
    "'property_type',\n",
    "'room_type',\n",
    "'accommodates',\n",
    "'bathrooms',\n",
    "'bedrooms',\n",
    "'beds',\n",
    "'amenities',\n",
    "'price',\n",
    "'guests_included',\n",
    "'extra_people',\n",
    "'number_of_reviews',\n",
    "'has_availability',\n",
    "'availability_30',\n",
    "'cancellation_policy',\n",
    "'instant_bookable',\n",
    "'review_scores_rating',\n",
    "'review_scores_location',\n",
    "'review_scores_accuracy',\n",
    "'review_scores_cleanliness',\n",
    "'review_scores_value',\n",
    "'review_scores_checkin',\n",
    "'review_scores_communication',\n",
    "'requires_license',\n",
    "'require_guest_profile_picture',\n",
    "'require_guest_phone_verification',\n",
    "'calculated_host_listings_count',\n",
    "'reviews_per_month']]"
   ]
  },
  {
   "cell_type": "code",
   "execution_count": 7,
   "metadata": {},
   "outputs": [
    {
     "data": {
      "text/plain": [
       "<Figure size 1440x720 with 0 Axes>"
      ]
     },
     "metadata": {},
     "output_type": "display_data"
    },
    {
     "data": {
      "image/png": "[encoded data removed]",
      "text/plain": [
       "<Figure size 432x288 with 1 Axes>"
      ]
     },
     "metadata": {
      "needs_background": "light"
     },
     "output_type": "display_data"
    }
   ],
   "source": [
    "\n",
    "listings_year=pd.DataFrame(columns=[\"Year\", \"Listings\"])\n",
    "listings_year[\"Year\"]=[2017,2018,2019]\n",
    "listings_year[\"Listings\"]=[3818,8594,7968]\n",
    "y=listings_year[\"Listings\"]\n",
    "# listings_year[2018]=[8594]\n",
    "# listings_year[2019]=[7968]\n",
    "\n",
    "listings_year\n",
    "fig=plt.gcf()\n",
    "fig.set_size_inches(20,10)\n",
    "ax=listings_year.plot(kind='bar', align='edge', x=\"Year\", y=\"Listings\", color = 'tomato',edgecolor='r', linewidth ='2', width = 0.3)\n",
    "plt.ylabel(\"Number of listings\", fontsize = 12)\n",
    "plt.title(\"Number of listings per year\", fontsize = 15)\n",
    "plt.xticks(rotation=360, multialignment ='center')\n",
    "for p in ax.patches:\n",
    "    ax.annotate(str(p.get_height()), (p.get_x() * 1.005, p.get_height() * 1.05))\n",
    "plt.ylim(0,10000)\n",
    "ax.get_legend().remove()"
   ]
  },
  {
   "cell_type": "code",
   "execution_count": 8,
   "metadata": {},
   "outputs": [
    {
     "data": {
      "text/plain": [
       "<Figure size 1440x720 with 0 Axes>"
      ]
     },
     "metadata": {},
     "output_type": "display_data"
    },
    {
     "data": {
      "image/png": "[encoded data removed]",
      "text/plain": [
       "<Figure size 432x288 with 1 Axes>"
      ]
     },
     "metadata": {
      "needs_background": "light"
     },
     "output_type": "display_data"
    }
   ],
   "source": [
    "reviews_year=pd.DataFrame(columns=[\"Year\", \"Reviews\"])\n",
    "reviews_year[\"Year\"]=[2017,2018,2019]\n",
    "reviews_year[\"Reviews\"]=[84849,374476,419901]\n",
    "y=reviews_year[\"Reviews\"]\n",
    "\n",
    "reviews_year\n",
    "fig=plt.gcf()\n",
    "fig.set_size_inches(20,10)\n",
    "ax=reviews_year.plot(kind='bar', align='edge', x=\"Year\", y=\"Reviews\", color = 'tomato',edgecolor='r', linewidth ='2', width = 0.3)\n",
    "plt.ylabel(\"Number of Reviews\", fontsize = 12)\n",
    "plt.title(\"Number of Reviews per year\", fontsize = 15)\n",
    "plt.xticks(rotation=360, multialignment ='center')\n",
    "for p in ax.patches:\n",
    "    ax.annotate(str(p.get_height()), (p.get_x() * 1.005, p.get_height() * 1.06))\n",
    "plt.ylim(0,500000)\n",
    "ax.get_legend().remove()"
   ]
  },
  {
   "cell_type": "code",
   "execution_count": 9,
   "metadata": {},
   "outputs": [],
   "source": [
    "set_19 = set(listings2019_df.id)\n",
    "set_18 = set(listings2018_df.id)\n",
    "set_17 = set(listings2017_df.id)\n",
    "\n",
    "listings2018_df['drop_out'] = listings2018_df['id'].apply(lambda x: 0 if x in set_19 else 1)\n",
    "listings2017_df['drop_out'] = listings2017_df['id'].apply(lambda x: 0 if x in set_18 else 1)"
   ]
  },
  {
   "cell_type": "code",
   "execution_count": 10,
   "metadata": {},
   "outputs": [
    {
     "data": {
      "text/plain": [
       "(12412, 42)"
      ]
     },
     "execution_count": 10,
     "metadata": {},
     "output_type": "execute_result"
    }
   ],
   "source": [
    "listings_17_18=pd.concat([listings2017_df,listings2018_df], axis=0)\n",
    "listings_17_18.shape"
   ]
  },
  {
   "cell_type": "code",
   "execution_count": 11,
   "metadata": {},
   "outputs": [],
   "source": [
    "cols = ['host_is_superhost',\n",
    "        'host_has_profile_pic', \n",
    "        'host_identity_verified',\n",
    "       'is_location_exact', 'has_availability', 'instant_bookable','require_guest_profile_picture','require_guest_phone_verification','requires_license' ]\n",
    "\n",
    "listings2019_df[cols] = (listings2019_df[cols].applymap(lambda x: 1 if x == 't' else 0))\n",
    "listings_17_18[cols] = (listings_17_18[cols].applymap(lambda x: 1 if x == 't' else 0))"
   ]
  },
  {
   "cell_type": "code",
   "execution_count": 12,
   "metadata": {},
   "outputs": [],
   "source": [
    "listings_17_18[\"host_response_time\"]=listings_17_18.loc[:, ['host_response_time']].fillna(\"Missing\")\n",
    "listings2019_df[\"host_response_time\"]=listings2019_df.loc[:, ['host_response_time']].fillna(\"Missing\")"
   ]
  },
  {
   "cell_type": "code",
   "execution_count": 13,
   "metadata": {},
   "outputs": [
    {
     "data": {
      "text/plain": [
       "(12352, 42)"
      ]
     },
     "execution_count": 13,
     "metadata": {},
     "output_type": "execute_result"
    }
   ],
   "source": [
    "listings_17_18=listings_17_18.dropna(axis=0,subset=[\"host_since\",\"host_location\", \"accommodates\",\"bathrooms\",\"bedrooms\",\"beds\",\"property_type\"])\n",
    "listings2019_df=listings2019_df.dropna(axis=0,subset=[\"host_since\",\"host_location\", \"accommodates\",\"bathrooms\",\"bedrooms\",\"beds\",\"property_type\"])\n",
    "listings_17_18.shape"
   ]
  },
  {
   "cell_type": "code",
   "execution_count": 14,
   "metadata": {},
   "outputs": [
    {
     "data": {
      "text/plain": [
       "(12352, 42)"
      ]
     },
     "execution_count": 14,
     "metadata": {},
     "output_type": "execute_result"
    }
   ],
   "source": [
    "listings_17_18['host_response_rate']=listings_17_18.loc[:, ['host_response_rate']].fillna(999)\n",
    "listings2019_df['host_response_rate']=listings2019_df.loc[:, ['host_response_rate']].fillna(999)\n",
    "listings_17_18.shape"
   ]
  },
  {
   "cell_type": "code",
   "execution_count": 15,
   "metadata": {},
   "outputs": [
    {
     "data": {
      "text/plain": [
       "(12348, 42)"
      ]
     },
     "execution_count": 15,
     "metadata": {},
     "output_type": "execute_result"
    }
   ],
   "source": [
    "listings_17_18.price = listings_17_18.price.replace('[\\$\\,]', '', regex=True).astype(float)\n",
    "listings_17_18=listings_17_18[listings_17_18.price>0]\n",
    "listings_17_18.shape"
   ]
  },
  {
   "cell_type": "code",
   "execution_count": 16,
   "metadata": {},
   "outputs": [
    {
     "data": {
      "text/plain": [
       "(7884, 41)"
      ]
     },
     "execution_count": 16,
     "metadata": {},
     "output_type": "execute_result"
    }
   ],
   "source": [
    "listings2019_df.price = listings2019_df.price.replace('[\\$\\,]', '', regex=True).astype(float)\n",
    "listings2019_df=listings2019_df[listings2019_df.price>0]\n",
    "listings2019_df.shape"
   ]
  },
  {
   "cell_type": "code",
   "execution_count": 17,
   "metadata": {},
   "outputs": [
    {
     "data": {
      "text/plain": [
       "(12348, 42)"
      ]
     },
     "execution_count": 17,
     "metadata": {},
     "output_type": "execute_result"
    }
   ],
   "source": [
    "cols=[\"review_scores_location\",\"review_scores_accuracy\",\"review_scores_cleanliness\",\"review_scores_value\",\"review_scores_checkin\",\"review_scores_communication\",\"reviews_per_month\",\"review_scores_rating\"]\n",
    "\n",
    "for i in cols:\n",
    "    listings_17_18[i]=listings_17_18.loc[:, [i]].fillna(0)\n",
    "    listings2019_df[i]=listings2019_df.loc[:, [i]].fillna(0)\n",
    "listings_17_18.shape"
   ]
  },
  {
   "cell_type": "code",
   "execution_count": 18,
   "metadata": {},
   "outputs": [
    {
     "data": {
      "text/plain": [
       "(12256, 42)"
      ]
     },
     "execution_count": 18,
     "metadata": {},
     "output_type": "execute_result"
    }
   ],
   "source": [
    "listings_17_18=listings_17_18[listings_17_18.guests_included>0]\n",
    "listings2019_df=listings2019_df[listings2019_df.guests_included>0]\n",
    "listings_17_18.shape"
   ]
  },
  {
   "cell_type": "code",
   "execution_count": 19,
   "metadata": {},
   "outputs": [],
   "source": [
    "listings_17_18=listings_17_18.dropna(axis=0,subset=[\"zipcode\"])\n",
    "listings2019_df=listings2019_df.dropna(axis=0,subset=[\"zipcode\"])\n",
    "listings_17_18['zipcode_cleansed'] = listings_17_18['zipcode'].astype('str').str[:5]\n",
    "listings2019_df['zipcode_cleansed'] = listings2019_df['zipcode'].astype('str').str[:5]"
   ]
  },
  {
   "cell_type": "code",
   "execution_count": 20,
   "metadata": {},
   "outputs": [
    {
     "data": {
      "text/plain": [
       "(7725, 42)"
      ]
     },
     "execution_count": 20,
     "metadata": {},
     "output_type": "execute_result"
    }
   ],
   "source": [
    "listings_17_18=listings_17_18[listings_17_18.zipcode_cleansed!='99\\n98']\n",
    "listings2019_df=listings2019_df[(listings2019_df.zipcode_cleansed!='99\\n98')]\n",
    "listings2019_df=listings2019_df[(listings2019_df.zipcode_cleansed!=' ')]\n",
    "listings2019_df.shape"
   ]
  },
  {
   "cell_type": "code",
   "execution_count": 21,
   "metadata": {},
   "outputs": [],
   "source": [
    "##strings to float\n",
    "###dollars\n",
    "cols = ['extra_people']\n",
    "\n",
    "listings_17_18[cols] = (listings_17_18[cols].replace({'\\$': '', ',': ''}, regex=True).astype(float))\n",
    "listings2019_df[cols] = (listings2019_df[cols].replace({'\\$': '', ',': ''}, regex=True).astype(float))"
   ]
  },
  {
   "cell_type": "code",
   "execution_count": 22,
   "metadata": {},
   "outputs": [],
   "source": [
    "###percents\n",
    "listings_17_18['host_response_rate'] = (listings_17_18['host_response_rate']\n",
    "                                  .replace({'%': ''}, regex=True)\n",
    "                                  .astype(float))"
   ]
  },
  {
   "cell_type": "code",
   "execution_count": 23,
   "metadata": {},
   "outputs": [],
   "source": [
    "###percents\n",
    "listings2019_df['host_response_rate'] = (listings2019_df['host_response_rate']\n",
    "                                  .replace({'%': ''}, regex=True)\n",
    "                                  .astype(float))"
   ]
  },
  {
   "cell_type": "code",
   "execution_count": 24,
   "metadata": {},
   "outputs": [
    {
     "data": {
      "text/plain": [
       "(12189, 43)"
      ]
     },
     "execution_count": 24,
     "metadata": {},
     "output_type": "execute_result"
    }
   ],
   "source": [
    "listings_17_18.shape"
   ]
  },
  {
   "cell_type": "code",
   "execution_count": 25,
   "metadata": {},
   "outputs": [
    {
     "data": {
      "text/plain": [
       "Text(0.5, 1.0, 'Listings dropped out year to year')"
      ]
     },
     "execution_count": 25,
     "metadata": {},
     "output_type": "execute_result"
    },
    {
     "data": {
      "image/png": "[encoded data removed]",
      "text/plain": [
       "<Figure size 432x288 with 2 Axes>"
      ]
     },
     "metadata": {},
     "output_type": "display_data"
    }
   ],
   "source": [
    "sum_17 = listings2017_df.drop_out.value_counts(dropna = False)\n",
    "sum_18 = listings2018_df.drop_out.value_counts(dropna = False)\n",
    "\n",
    "#sum_17.drop_out = sum_17.drop_out / \n",
    "sum_17 = sum_17.to_frame()\n",
    "sum_17['year'] = 2017\n",
    "sum_18 = sum_18.to_frame()\n",
    "sum_18['year'] = 2018\n",
    "\n",
    "sums = pd.concat([sum_17, sum_18])\n",
    "sums = sums.reset_index()\n",
    "sums.columns = ['drop_out', 'listings', 'year']\n",
    "pal_dropout = ['#4878d0','#ee854a']\n",
    "ax = sums.pivot('year', 'drop_out')['listings'].plot(kind='pie',  subplots = True)\n",
    "plt.legend(labels=[\"Present Listings\",\"Dropped out listings\"])\n",
    "plt.ylabel(\"Number of Listings\")\n",
    "plt.xlabel(\"Years\")\n",
    "plt.title(\"Listings dropped out year to year\")"
   ]
  },
  {
   "cell_type": "code",
   "execution_count": 26,
   "metadata": {},
   "outputs": [
    {
     "data": {
      "text/plain": [
       "1    2072\n",
       "0    1746\n",
       "Name: drop_out, dtype: int64"
      ]
     },
     "execution_count": 26,
     "metadata": {},
     "output_type": "execute_result"
    }
   ],
   "source": [
    "sum_17.drop_out"
   ]
  },
  {
   "cell_type": "code",
   "execution_count": 27,
   "metadata": {},
   "outputs": [
    {
     "data": {
      "text/plain": [
       "([0, 1, 2, 3, 4, 5, 6, 7, 8, 9], <a list of 10 Text xticklabel objects>)"
      ]
     },
     "execution_count": 27,
     "metadata": {},
     "output_type": "execute_result"
    },
    {
     "data": {
      "image/png": "[encoded data removed]",
      "text/plain": [
       "<Figure size 1080x576 with 1 Axes>"
      ]
     },
     "metadata": {
      "needs_background": "light"
     },
     "output_type": "display_data"
    }
   ],
   "source": [
    "fig=plt.gcf()\n",
    "fig.set_size_inches(15,8)\n",
    "drop_nh=listings_17_18[listings_17_18.drop_out==1]\n",
    "a=pd.DataFrame(drop_nh.neighbourhood_cleansed.value_counts())\n",
    "a=a.reset_index()\n",
    "a.columns=[\"Neighbourhood\", \"dl\"]\n",
    "total=a.dl.sum()\n",
    "a = a.astype({'dl':'int32'})\n",
    "a[\"%_drop_out\"]=round((a[\"dl\"]/total)*100,2)\n",
    "a=a.drop(columns=[\"dl\"])\n",
    "a=a.head(10)\n",
    "plt.bar(a.Neighbourhood,a[\"%_drop_out\"],color = 'skyblue',edgecolor='lightblue', linewidth ='4')\n",
    "plt.ylabel(\"% of Listings\")\n",
    "plt.xlabel(\"Neighbourhoods\")\n",
    "plt.title(\"Top Neighbourhoods associated with dropout\")\n",
    "plt.xticks(rotation=45)"
   ]
  },
  {
   "cell_type": "code",
   "execution_count": 28,
   "metadata": {
    "scrolled": true
   },
   "outputs": [],
   "source": [
    "ptype=pd.DataFrame(listings_17_18.groupby(\"property_type\").agg({\"drop_out\":['mean','count']}))\n",
    "ptype=ptype.reset_index()\n",
    "ptype.columns=[\"property_type\",\"drop_out\",\"count_lis\"]\n",
    "ptype=ptype[ptype.count_lis>100]"
   ]
  },
  {
   "cell_type": "code",
   "execution_count": 29,
   "metadata": {},
   "outputs": [],
   "source": [
    "rtype=pd.DataFrame(listings_17_18.groupby(\"room_type\").agg({\"drop_out\":['mean','count']}))\n",
    "rtype=rtype.reset_index()\n",
    "rtype.columns=[\"room_type\",\"drop_out\",\"count_lis\"]"
   ]
  },
  {
   "cell_type": "code",
   "execution_count": 30,
   "metadata": {},
   "outputs": [
    {
     "data": {
      "text/plain": [
       "([0, 1, 2, 3, 4, 5, 6, 7, 8], <a list of 9 Text xticklabel objects>)"
      ]
     },
     "execution_count": 30,
     "metadata": {},
     "output_type": "execute_result"
    },
    {
     "data": {
      "image/png": "[encoded data removed]",
      "text/plain": [
       "<Figure size 720x432 with 1 Axes>"
      ]
     },
     "metadata": {
      "needs_background": "light"
     },
     "output_type": "display_data"
    }
   ],
   "source": [
    "fig=plt.gcf()\n",
    "fig.set_size_inches(10,6)\n",
    "plt.bar(ptype.property_type,round(ptype.drop_out*100,2), color = 'tomato',edgecolor='r', linewidth ='2', width = 0.7)\n",
    "plt.ylabel(\"% of listings dropped out\", fontsize = 12)\n",
    "plt.xlabel(\"Property type\", fontsize = 12)\n",
    "plt.title(\"Dropout rates for Airbnb listing property types\", fontsize = 15)\n",
    "plt.xticks(rotation=45)"
   ]
  },
  {
   "cell_type": "code",
   "execution_count": 31,
   "metadata": {},
   "outputs": [
    {
     "data": {
      "text/plain": [
       "([0, 1, 2], <a list of 3 Text xticklabel objects>)"
      ]
     },
     "execution_count": 31,
     "metadata": {},
     "output_type": "execute_result"
    },
    {
     "data": {
      "image/png": "[encoded data removed]",
      "text/plain": [
       "<Figure size 360x288 with 1 Axes>"
      ]
     },
     "metadata": {
      "needs_background": "light"
     },
     "output_type": "display_data"
    }
   ],
   "source": [
    "fig=plt.gcf()\n",
    "fig.set_size_inches(5,4)\n",
    "plt.bar(rtype.room_type,round(rtype.drop_out*100,2), color ='skyblue',edgecolor ='lightblue', width =0.5)\n",
    "plt.ylabel(\"% of listings dropped out\", fontsize = 12)\n",
    "plt.xlabel(\"Room types\", fontsize = 12)\n",
    "plt.title(\"Dropout rates for Airbnb listing room types\", fontsize = 13)\n",
    "plt.xticks(rotation=45)"
   ]
  },
  {
   "cell_type": "code",
   "execution_count": 32,
   "metadata": {},
   "outputs": [
    {
     "data": {
      "text/plain": [
       "([0, 1, 2], <a list of 3 Text xticklabel objects>)"
      ]
     },
     "execution_count": 32,
     "metadata": {},
     "output_type": "execute_result"
    },
    {
     "data": {
      "image/png": "[encoded data removed]",
      "text/plain": [
       "<Figure size 360x288 with 1 Axes>"
      ]
     },
     "metadata": {
      "needs_background": "light"
     },
     "output_type": "display_data"
    }
   ],
   "source": [
    "fig=plt.gcf()\n",
    "fig.set_size_inches(5,4)\n",
    "plt.bar(rtype.room_type,round(rtype.drop_out*100,2), color ='aquamarine',edgecolor ='aqua', width =0.5)\n",
    "plt.ylabel(\"% of listings dropped out\", fontsize = 12)\n",
    "plt.xlabel(\"Room types\", fontsize = 12)\n",
    "plt.title(\"Dropout rates for Airbnb listing room types\", fontsize = 13)\n",
    "plt.xticks(rotation=45)"
   ]
  },
  {
   "cell_type": "code",
   "execution_count": 33,
   "metadata": {},
   "outputs": [
    {
     "data": {
      "image/png": "[encoded data removed]",
      "text/plain": [
       "<Figure size 1296x432 with 3 Axes>"
      ]
     },
     "metadata": {
      "needs_background": "light"
     },
     "output_type": "display_data"
    }
   ],
   "source": [
    "from  matplotlib.ticker import PercentFormatter\n",
    "fig, (ax1, ax2,ax3) = plt.subplots(nrows = 1, ncols = 3,figsize=(18, 6))\n",
    "fig.tight_layout(pad = 5)\n",
    "ax1.set(ylim=(0, 1))\n",
    "ax2.set(ylim=(0, 1))\n",
    "\n",
    "sns.catplot(x=\"host_is_superhost\", y=\"drop_out\", data = listings_17_18,height=6, kind=\"bar\", palette=\"muted\", ax = ax1)\n",
    "ax1.set_title(\"Dropout rates for host type\", fontsize =15)\n",
    "ax1.set_xlabel('Host type', fontsize =12)\n",
    "ax1.set_xticklabels(['Not Superhost', 'Superhost'], fontsize =12)\n",
    "ax1.set_ylabel('% of listings dropped out', fontsize =12)\n",
    "ax1.yaxis.set_major_formatter(PercentFormatter(1))\n",
    "\n",
    "sns.catplot(x=\"host_identity_verified\", y=\"drop_out\", data = listings_17_18, height=6, kind=\"bar\", palette=\"muted\", ax = ax2)\n",
    "ax2.set_title(\"Dropout rates for host identity type\", fontsize =15)\n",
    "ax2.set_xlabel('Host identity type', fontsize =12)\n",
    "ax2.set_xticklabels(['Not Verified', 'Verified'], fontsize =12)\n",
    "ax2.set_ylabel('% of listings dropped out', fontsize =12)\n",
    "ax2.yaxis.set_major_formatter(PercentFormatter(1))\n",
    "\n",
    "\n",
    "sns.catplot(x=\"host_has_profile_pic\", y=\"drop_out\", data = listings_17_18, height=6, kind=\"bar\", palette=\"muted\", ax = ax3)\n",
    "ax3.set_title(\"Dropout rates for host profile picture presence\", fontsize =15)\n",
    "ax3.set_xlabel('Host profile picture presence', fontsize =12)\n",
    "ax3.set_xticklabels(['Not Present', 'Present'], fontsize =12)\n",
    "ax3.set_ylabel('% of listings dropped out', fontsize =12)\n",
    "ax3.yaxis.set_major_formatter(PercentFormatter(1))\n",
    "\n",
    "\n",
    "plt.close(2)\n",
    "plt.close(3)\n",
    "plt.close(4)"
   ]
  },
  {
   "cell_type": "code",
   "execution_count": 34,
   "metadata": {},
   "outputs": [],
   "source": [
    "#drop correlated variables\n",
    "drop_cols= ['beds',\n",
    "            'bedrooms',\n",
    "            'review_scores_accuracy',\n",
    "            'review_scores_value'\n",
    "]\n",
    "\n",
    "listings_17_18 = listings_17_18.drop(drop_cols, axis=1)"
   ]
  },
  {
   "cell_type": "code",
   "execution_count": 35,
   "metadata": {},
   "outputs": [],
   "source": [
    "#convert categorical variables to dummys\n",
    "\n",
    "\n",
    "##categorical columns\n",
    "cat_cols = ['room_type',\n",
    "            'property_type',\n",
    "            'host_response_time',\n",
    "            'cancellation_policy'\n",
    "           ]\n",
    "\n",
    "# cols_init = listings_17_18.columns.values\n",
    "# listings_17_18 = pd.get_dummies(listings_17_18, columns = cat_cols, drop_first=True)\n",
    "# cols_new = listings_17_18.columns.values\n",
    "# cat_cols = list(set(cols_new).difference(set(cols_init)))"
   ]
  },
  {
   "cell_type": "code",
   "execution_count": 36,
   "metadata": {},
   "outputs": [],
   "source": [
    "less = listings_17_18.drop(columns = ['amenities'])#,'drop_out','host_since','host_location','neighbourhood_cleansed','city'], axis=1)"
   ]
  },
  {
   "cell_type": "code",
   "execution_count": 37,
   "metadata": {},
   "outputs": [],
   "source": [
    "#log transform skewed distributions\n",
    "log_cols = [ 'price',\n",
    "        'number_of_reviews',\n",
    "        'review_scores_rating'\n",
    "]\n",
    "\n",
    "cont_cols_no_ln = ['host_response_rate',\n",
    "             'accommodates',\n",
    "             'bathrooms', \n",
    "             'guests_included', \n",
    "             'availability_30',\n",
    "             'number_of_reviews',\n",
    "             'review_scores_rating',\n",
    "             'review_scores_cleanliness',\n",
    "             'review_scores_checkin',\n",
    "             'review_scores_communication',\n",
    "             'review_scores_location',\n",
    "             'calculated_host_listings_count',\n",
    "             'reviews_per_month'\n",
    "              ]\n",
    "\n",
    "##continuous columns including log transformations\n",
    "cont_cols = log_cols + cont_cols_no_ln\n",
    "\n",
    "##binary columns\n",
    "binary_cols = ['host_is_superhost',\n",
    "               'host_has_profile_pic',\n",
    "               'host_identity_verified',\n",
    "               'is_location_exact',\n",
    "               'requires_license',\n",
    "               'instant_bookable',\n",
    "               'require_guest_profile_picture',\n",
    "               'require_guest_phone_verification',\n",
    "               'has_availability'\n",
    "               ]"
   ]
  },
  {
   "cell_type": "code",
   "execution_count": 38,
   "metadata": {},
   "outputs": [],
   "source": [
    "listings_merged_train = pd.DataFrame()\n",
    "listings_merged_train=pd.merge(listings_17_18,listing_review_scores_train, how='left', left_on=['id'], right_on=['listings_all'])\n",
    "listings_merged=pd.merge(listings_merged_train,listing_avail_days_train, how='inner', left_on=['id'], right_on=['id'])"
   ]
  },
  {
   "cell_type": "code",
   "execution_count": 39,
   "metadata": {},
   "outputs": [],
   "source": [
    "listings_merged_test = pd.DataFrame()\n",
    "listings_merged_test=pd.merge(listings2019_df,listing_review_scores_test, how='left', left_on=['id'], right_on=['listings_all'])\n",
    "listings_merged_test=pd.merge(listings_merged_test,listing_avail_days_test, how='inner', left_on=['id'], right_on=['id'])"
   ]
  },
  {
   "cell_type": "code",
   "execution_count": 40,
   "metadata": {},
   "outputs": [
    {
     "data": {
      "text/plain": [
       "id                                     0\n",
       "host_id                                0\n",
       "host_since                             0\n",
       "host_location                          0\n",
       "host_response_time                     0\n",
       "host_response_rate                     0\n",
       "host_is_superhost                      0\n",
       "host_has_profile_pic                   0\n",
       "host_identity_verified                 0\n",
       "street                                 0\n",
       "neighbourhood_cleansed                 0\n",
       "city                                   0\n",
       "zipcode                                0\n",
       "is_location_exact                      0\n",
       "property_type                          0\n",
       "room_type                              0\n",
       "accommodates                           0\n",
       "bathrooms                              0\n",
       "bedrooms                               0\n",
       "beds                                   0\n",
       "amenities                              0\n",
       "price                                  0\n",
       "guests_included                        0\n",
       "extra_people                           0\n",
       "number_of_reviews                      0\n",
       "has_availability                       0\n",
       "availability_30                        0\n",
       "cancellation_policy                    0\n",
       "instant_bookable                       0\n",
       "review_scores_rating                   0\n",
       "review_scores_location                 0\n",
       "review_scores_accuracy                 0\n",
       "review_scores_cleanliness              0\n",
       "review_scores_value                    0\n",
       "review_scores_checkin                  0\n",
       "review_scores_communication            0\n",
       "requires_license                       0\n",
       "require_guest_profile_picture          0\n",
       "require_guest_phone_verification       0\n",
       "calculated_host_listings_count         0\n",
       "reviews_per_month                      0\n",
       "zipcode_cleansed                       0\n",
       "listings_all                        2109\n",
       "neg_all                             2109\n",
       "neu_all                             2109\n",
       "pos_all                             2109\n",
       "compound_all                        2109\n",
       "days_avail                             0\n",
       "dtype: int64"
      ]
     },
     "execution_count": 40,
     "metadata": {},
     "output_type": "execute_result"
    }
   ],
   "source": [
    "listings_merged_test.isna().sum()"
   ]
  },
  {
   "cell_type": "code",
   "execution_count": 41,
   "metadata": {},
   "outputs": [
    {
     "data": {
      "text/plain": [
       "id                                     0\n",
       "host_id                                0\n",
       "host_since                             0\n",
       "host_location                          0\n",
       "host_response_time                     0\n",
       "host_response_rate                     0\n",
       "host_is_superhost                      0\n",
       "host_has_profile_pic                   0\n",
       "host_identity_verified                 0\n",
       "street                                 0\n",
       "neighbourhood_cleansed                 0\n",
       "city                                   0\n",
       "zipcode                                0\n",
       "is_location_exact                      0\n",
       "property_type                          0\n",
       "room_type                              0\n",
       "accommodates                           0\n",
       "bathrooms                              0\n",
       "amenities                              0\n",
       "price                                  0\n",
       "guests_included                        0\n",
       "extra_people                           0\n",
       "number_of_reviews                      0\n",
       "has_availability                       0\n",
       "availability_30                        0\n",
       "cancellation_policy                    0\n",
       "instant_bookable                       0\n",
       "review_scores_rating                   0\n",
       "review_scores_location                 0\n",
       "review_scores_cleanliness              0\n",
       "review_scores_checkin                  0\n",
       "review_scores_communication            0\n",
       "requires_license                       0\n",
       "require_guest_profile_picture          0\n",
       "require_guest_phone_verification       0\n",
       "calculated_host_listings_count         0\n",
       "reviews_per_month                      0\n",
       "drop_out                               0\n",
       "zipcode_cleansed                       0\n",
       "listings_all                        3680\n",
       "neg_all                             3680\n",
       "neu_all                             3680\n",
       "pos_all                             3680\n",
       "compound_all                        3680\n",
       "days_avail                             0\n",
       "dtype: int64"
      ]
     },
     "execution_count": 41,
     "metadata": {},
     "output_type": "execute_result"
    }
   ],
   "source": [
    "listings_merged.isna().sum()"
   ]
  },
  {
   "cell_type": "code",
   "execution_count": 42,
   "metadata": {},
   "outputs": [],
   "source": [
    "listings_merged_train = listings_merged_train.drop(columns =\"listings_all\")\n",
    "listings_merged_test = listings_merged_test.drop(columns =\"listings_all\")"
   ]
  },
  {
   "cell_type": "code",
   "execution_count": 43,
   "metadata": {},
   "outputs": [],
   "source": [
    "cols=[\"neg_all\",\"neu_all\",\"pos_all\",\"compound_all\"]\n",
    "\n",
    "for i in cols:\n",
    "    listings_merged_train[i]=listings_merged_train.loc[:, [i]].fillna(0)\n",
    "    listings_merged_test[i]=listings_merged_test.loc[:, [i]].fillna(0)\n"
   ]
  },
  {
   "cell_type": "code",
   "execution_count": 44,
   "metadata": {},
   "outputs": [
    {
     "data": {
      "text/plain": [
       "(12189, 45)"
      ]
     },
     "execution_count": 44,
     "metadata": {},
     "output_type": "execute_result"
    }
   ],
   "source": [
    "listings_merged.shape"
   ]
  },
  {
   "cell_type": "code",
   "execution_count": 45,
   "metadata": {},
   "outputs": [],
   "source": [
    "##categorical columns\n",
    "cat_cols = ['room_type',\n",
    "            'property_type',\n",
    "            'host_response_time',\n",
    "            'cancellation_policy'\n",
    "           ]\n",
    "X_data = pd.DataFrame(listings_17_18[cont_cols+binary_cols+cat_cols])\n",
    "\n",
    "\n",
    "cols_init = X_data.columns.values\n",
    "X_data = pd.get_dummies(X_data, columns = cat_cols, drop_first=True)\n",
    "cols_new = X_data.columns.values\n",
    "cat_cols = list(set(cols_new).difference(set(cols_init)))"
   ]
  },
  {
   "cell_type": "code",
   "execution_count": 46,
   "metadata": {},
   "outputs": [],
   "source": [
    "#split data into test, train sets\n",
    "y = less['drop_out']\n",
    "X = X_data\n",
    "#X = listings_17_18.drop('drop_out', axis=1)\n",
    "\n",
    "X_train, X_test, y_train, y_test = train_test_split(X, y, test_size=0.20, random_state=42)"
   ]
  },
  {
   "cell_type": "code",
   "execution_count": 47,
   "metadata": {},
   "outputs": [
    {
     "data": {
      "text/plain": [
       "<matplotlib.lines.Line2D at 0x1e0a93a6e08>"
      ]
     },
     "execution_count": 47,
     "metadata": {},
     "output_type": "execute_result"
    },
    {
     "data": {
      "image/png": "[encoded data removed]",
      "text/plain": [
       "<Figure size 360x360 with 1 Axes>"
      ]
     },
     "metadata": {
      "needs_background": "light"
     },
     "output_type": "display_data"
    }
   ],
   "source": [
    "#based on PCA, use 10 dimensions\n",
    "decomp = PCA()\n",
    "\n",
    "std = StandardScaler()\n",
    "decomp.fit(std.fit_transform(X_train[cont_cols]))\n",
    "\n",
    "plt.figure(1, figsize=(5, 5))\n",
    "plt.clf()\n",
    "plt.axes([.2, .2, .7, .7])\n",
    "plt.plot(np.cumsum(decomp.explained_variance_ratio_), linewidth=2, marker = 'o')\n",
    "plt.axis('tight')\n",
    "plt.xlabel('n_components')\n",
    "plt.ylabel('explained_variance_')\n",
    "plt.axvline(x=10)"
   ]
  },
  {
   "cell_type": "code",
   "execution_count": 48,
   "metadata": {},
   "outputs": [
    {
     "name": "stdout",
     "output_type": "stream",
     "text": [
      "The Accuracy Score for Gradient Boosting:  69.44 %\n",
      "\n",
      "The classification report for Gradient Boosting: \n"
     ]
    },
    {
     "data": {
      "text/html": [
       "<div>\n",
       "<style scoped>\n",
       "    .dataframe tbody tr th:only-of-type {\n",
       "        vertical-align: middle;\n",
       "    }\n",
       "\n",
       "    .dataframe tbody tr th {\n",
       "        vertical-align: top;\n",
       "    }\n",
       "\n",
       "    .dataframe thead th {\n",
       "        text-align: right;\n",
       "    }\n",
       "</style>\n",
       "<table border=\"1\" class=\"dataframe\">\n",
       "  <thead>\n",
       "    <tr style=\"text-align: right;\">\n",
       "      <th></th>\n",
       "      <th>precision</th>\n",
       "      <th>recall</th>\n",
       "      <th>f1-score</th>\n",
       "      <th>support</th>\n",
       "    </tr>\n",
       "  </thead>\n",
       "  <tbody>\n",
       "    <tr>\n",
       "      <td>0</td>\n",
       "      <td>0.714473</td>\n",
       "      <td>0.779286</td>\n",
       "      <td>0.745473</td>\n",
       "      <td>1400.000000</td>\n",
       "    </tr>\n",
       "    <tr>\n",
       "      <td>1</td>\n",
       "      <td>0.660812</td>\n",
       "      <td>0.579961</td>\n",
       "      <td>0.617753</td>\n",
       "      <td>1038.000000</td>\n",
       "    </tr>\n",
       "    <tr>\n",
       "      <td>accuracy</td>\n",
       "      <td>0.694422</td>\n",
       "      <td>0.694422</td>\n",
       "      <td>0.694422</td>\n",
       "      <td>0.694422</td>\n",
       "    </tr>\n",
       "    <tr>\n",
       "      <td>macro avg</td>\n",
       "      <td>0.687643</td>\n",
       "      <td>0.679624</td>\n",
       "      <td>0.681613</td>\n",
       "      <td>2438.000000</td>\n",
       "    </tr>\n",
       "    <tr>\n",
       "      <td>weighted avg</td>\n",
       "      <td>0.691626</td>\n",
       "      <td>0.694422</td>\n",
       "      <td>0.691095</td>\n",
       "      <td>2438.000000</td>\n",
       "    </tr>\n",
       "  </tbody>\n",
       "</table>\n",
       "</div>"
      ],
      "text/plain": [
       "              precision    recall  f1-score      support\n",
       "0              0.714473  0.779286  0.745473  1400.000000\n",
       "1              0.660812  0.579961  0.617753  1038.000000\n",
       "accuracy       0.694422  0.694422  0.694422     0.694422\n",
       "macro avg      0.687643  0.679624  0.681613  2438.000000\n",
       "weighted avg   0.691626  0.694422  0.691095  2438.000000"
      ]
     },
     "execution_count": 48,
     "metadata": {},
     "output_type": "execute_result"
    }
   ],
   "source": [
    "###### Using GradientBoosting\n",
    "grad_boost_clf = GradientBoostingClassifier( learning_rate = 0.05, n_estimators= 750,max_depth=6, min_samples_split=3, min_samples_leaf=40, subsample=1,max_features='sqrt',random_state=5).fit(X_train,y_train)\n",
    "grad_boost_yhat = grad_boost_clf.predict(X_test)\n",
    "prediction_gb=  confusion_matrix(y_test, grad_boost_yhat)\n",
    "prediction_gb_df = pd.DataFrame(prediction_gb)\n",
    "\n",
    "class_report_gb = classification_report(y_test, grad_boost_yhat, output_dict=True)\n",
    "print('The Accuracy Score for Gradient Boosting: ', round(accuracy_score(y_test, grad_boost_yhat)*100,2),\"%\")\n",
    "print('\\nThe classification report for Gradient Boosting: ')\n",
    "pd.DataFrame(class_report_gb).transpose()\n",
    "#confusion_matrix(y_test, grad_boost_yhat)"
   ]
  },
  {
   "cell_type": "code",
   "execution_count": 49,
   "metadata": {},
   "outputs": [
    {
     "name": "stdout",
     "output_type": "stream",
     "text": [
      "The Accuracy Score for SVM Model: 58.7 %\n",
      "\n",
      "The classification report for SVM Model: \n"
     ]
    },
    {
     "data": {
      "text/html": [
       "<div>\n",
       "<style scoped>\n",
       "    .dataframe tbody tr th:only-of-type {\n",
       "        vertical-align: middle;\n",
       "    }\n",
       "\n",
       "    .dataframe tbody tr th {\n",
       "        vertical-align: top;\n",
       "    }\n",
       "\n",
       "    .dataframe thead th {\n",
       "        text-align: right;\n",
       "    }\n",
       "</style>\n",
       "<table border=\"1\" class=\"dataframe\">\n",
       "  <thead>\n",
       "    <tr style=\"text-align: right;\">\n",
       "      <th></th>\n",
       "      <th>precision</th>\n",
       "      <th>recall</th>\n",
       "      <th>f1-score</th>\n",
       "      <th>support</th>\n",
       "    </tr>\n",
       "  </thead>\n",
       "  <tbody>\n",
       "    <tr>\n",
       "      <td>0</td>\n",
       "      <td>0.608384</td>\n",
       "      <td>0.787857</td>\n",
       "      <td>0.686586</td>\n",
       "      <td>1400.000000</td>\n",
       "    </tr>\n",
       "    <tr>\n",
       "      <td>1</td>\n",
       "      <td>0.524800</td>\n",
       "      <td>0.315992</td>\n",
       "      <td>0.394468</td>\n",
       "      <td>1038.000000</td>\n",
       "    </tr>\n",
       "    <tr>\n",
       "      <td>accuracy</td>\n",
       "      <td>0.586957</td>\n",
       "      <td>0.586957</td>\n",
       "      <td>0.586957</td>\n",
       "      <td>0.586957</td>\n",
       "    </tr>\n",
       "    <tr>\n",
       "      <td>macro avg</td>\n",
       "      <td>0.566592</td>\n",
       "      <td>0.551925</td>\n",
       "      <td>0.540527</td>\n",
       "      <td>2438.000000</td>\n",
       "    </tr>\n",
       "    <tr>\n",
       "      <td>weighted avg</td>\n",
       "      <td>0.572797</td>\n",
       "      <td>0.586957</td>\n",
       "      <td>0.562214</td>\n",
       "      <td>2438.000000</td>\n",
       "    </tr>\n",
       "  </tbody>\n",
       "</table>\n",
       "</div>"
      ],
      "text/plain": [
       "              precision    recall  f1-score      support\n",
       "0              0.608384  0.787857  0.686586  1400.000000\n",
       "1              0.524800  0.315992  0.394468  1038.000000\n",
       "accuracy       0.586957  0.586957  0.586957     0.586957\n",
       "macro avg      0.566592  0.551925  0.540527  2438.000000\n",
       "weighted avg   0.572797  0.586957  0.562214  2438.000000"
      ]
     },
     "execution_count": 49,
     "metadata": {},
     "output_type": "execute_result"
    }
   ],
   "source": [
    "#random.seed(1)\n",
    "nb_clf = SVC()\n",
    "nb_model=nb_clf.fit(X_train, y_train)\n",
    "nb_yhat = nb_model.predict(X_test)\n",
    "prediction_nb=  confusion_matrix(y_test, nb_yhat)\n",
    "prediction_nb_df = pd.DataFrame(prediction_nb)\n",
    "\n",
    "class_report_nb = classification_report(y_test, nb_yhat, output_dict=True)\n",
    "nb_acc=accuracy_score(y_test, nb_yhat)\n",
    "print(\"The Accuracy Score for SVM Model:\",round(nb_acc*100,2),\"%\")\n",
    "print('\\nThe classification report for SVM Model: ')\n",
    "pd.DataFrame(class_report_nb).transpose()"
   ]
  },
  {
   "cell_type": "code",
   "execution_count": 50,
   "metadata": {},
   "outputs": [
    {
     "name": "stdout",
     "output_type": "stream",
     "text": [
      "\n",
      "The Accuracy Score for Regularized Logistic Regression Model: 62.92 %\n",
      "\n",
      "The classification report for Regularized Logistic Regression Model: \n"
     ]
    },
    {
     "data": {
      "text/html": [
       "<div>\n",
       "<style scoped>\n",
       "    .dataframe tbody tr th:only-of-type {\n",
       "        vertical-align: middle;\n",
       "    }\n",
       "\n",
       "    .dataframe tbody tr th {\n",
       "        vertical-align: top;\n",
       "    }\n",
       "\n",
       "    .dataframe thead th {\n",
       "        text-align: right;\n",
       "    }\n",
       "</style>\n",
       "<table border=\"1\" class=\"dataframe\">\n",
       "  <thead>\n",
       "    <tr style=\"text-align: right;\">\n",
       "      <th></th>\n",
       "      <th>precision</th>\n",
       "      <th>recall</th>\n",
       "      <th>f1-score</th>\n",
       "      <th>support</th>\n",
       "    </tr>\n",
       "  </thead>\n",
       "  <tbody>\n",
       "    <tr>\n",
       "      <td>0</td>\n",
       "      <td>0.654421</td>\n",
       "      <td>0.750714</td>\n",
       "      <td>0.699268</td>\n",
       "      <td>1400.000000</td>\n",
       "    </tr>\n",
       "    <tr>\n",
       "      <td>1</td>\n",
       "      <td>0.580529</td>\n",
       "      <td>0.465318</td>\n",
       "      <td>0.516578</td>\n",
       "      <td>1038.000000</td>\n",
       "    </tr>\n",
       "    <tr>\n",
       "      <td>accuracy</td>\n",
       "      <td>0.629204</td>\n",
       "      <td>0.629204</td>\n",
       "      <td>0.629204</td>\n",
       "      <td>0.629204</td>\n",
       "    </tr>\n",
       "    <tr>\n",
       "      <td>macro avg</td>\n",
       "      <td>0.617475</td>\n",
       "      <td>0.608016</td>\n",
       "      <td>0.607923</td>\n",
       "      <td>2438.000000</td>\n",
       "    </tr>\n",
       "    <tr>\n",
       "      <td>weighted avg</td>\n",
       "      <td>0.622961</td>\n",
       "      <td>0.629204</td>\n",
       "      <td>0.621486</td>\n",
       "      <td>2438.000000</td>\n",
       "    </tr>\n",
       "  </tbody>\n",
       "</table>\n",
       "</div>"
      ],
      "text/plain": [
       "              precision    recall  f1-score      support\n",
       "0              0.654421  0.750714  0.699268  1400.000000\n",
       "1              0.580529  0.465318  0.516578  1038.000000\n",
       "accuracy       0.629204  0.629204  0.629204     0.629204\n",
       "macro avg      0.617475  0.608016  0.607923  2438.000000\n",
       "weighted avg   0.622961  0.629204  0.621486  2438.000000"
      ]
     },
     "execution_count": 50,
     "metadata": {},
     "output_type": "execute_result"
    }
   ],
   "source": [
    "log_reg_mod = LogisticRegression(penalty = 'l2').fit(X_train, y_train)\n",
    "log_reg_yhat = log_reg_mod.predict(X_test)\n",
    "\n",
    "prediction_lr =confusion_matrix(y_test, log_reg_yhat)\n",
    "prediction_lr_df = pd.DataFrame(prediction_lr)\n",
    "\n",
    "class_report_lr = classification_report(y_test, log_reg_yhat, output_dict=True)\n",
    "\n",
    "print('\\nThe Accuracy Score for Regularized Logistic Regression Model:', round((accuracy_score(y_test, log_reg_yhat))*100,2),\"%\")\n",
    "print('\\nThe classification report for Regularized Logistic Regression Model: ')\n",
    "pd.DataFrame(class_report_lr).transpose()"
   ]
  }
 ],
 "metadata": {
  "kernelspec": {
   "display_name": "Python 3",
   "language": "python",
   "name": "python3"
  },
  "language_info": {
   "codemirror_mode": {
    "name": "ipython",
    "version": 3
   },
   "file_extension": ".py",
   "mimetype": "text/x-python",
   "name": "python",
   "nbconvert_exporter": "python",
   "pygments_lexer": "ipython3",
   "version": "3.7.4"
  }
 },
 "nbformat": 4,
 "nbformat_minor": 2
}
